{
  "nbformat": 4,
  "nbformat_minor": 0,
  "metadata": {
    "colab": {
      "name": "Login _system.ipynb",
      "provenance": []
    },
    "kernelspec": {
      "name": "python3",
      "display_name": "Python 3"
    },
    "language_info": {
      "name": "python"
    }
  },
  "cells": [
    {
      "cell_type": "code",
      "source": [
        "import csv"
      ],
      "metadata": {
        "id": "flGyHFgqoHpr"
      },
      "execution_count": 2,
      "outputs": []
    },
    {
      "cell_type": "markdown",
      "source": [
        "user function()"
      ],
      "metadata": {
        "id": "Eq-gIrYpr1D6"
      }
    },
    {
      "cell_type": "code",
      "execution_count": 1,
      "metadata": {
        "id": "sZxHq5IXOY3D"
      },
      "outputs": [],
      "source": [
        "def user():\n",
        "  a = 0\n",
        "  while a==0:\n",
        "    print(\"please enter a password  @gmail.com or @yahoo.com\")\n",
        "    email = input(\"Enter a username:\",)\n",
        "    if email.endswith(\"@gmail.com\") or email.endswith(\"@yahoo.com\"):\n",
        "      pass\n",
        "    else:\n",
        "      print(\"user name or user_id is not should format in @gmail.com or @yahoo.com\")\n",
        "      continue\n",
        "    email_format = email.split(\"@\")\n",
        "    if email_format[0].isalnum() and len(email_format[0])>0:\n",
        "        if email_format[0][0].isalpha():\n",
        "         a = 1\n",
        "        else:\n",
        "          print(\"email_id or username should be not in specific format in char or numbers.\")\n",
        "          continue\n",
        "          b = \"@\"\n",
        "          print(f\"There should be special char before in {b}\")\n",
        "  return email"
      ]
    },
    {
      "cell_type": "code",
      "source": [
        "user()"
      ],
      "metadata": {
        "id": "3p3A-B7hrLiN"
      },
      "execution_count": null,
      "outputs": []
    },
    {
      "cell_type": "markdown",
      "source": [
        "password func()"
      ],
      "metadata": {
        "id": "_HGUJ2qNATqE"
      }
    },
    {
      "cell_type": "code",
      "source": [
        "def pswd():\n",
        "  print(\"password format should be in one uppercase,one lowercase and one digit \")\n",
        "  print(\"password limit in length between 5 < password < 16\")\n",
        "  a = 0\n",
        "  while a == 0:\n",
        "    pswd = input(\"Enter a pasword:\",)\n",
        "    if 5 <len(pswd)<16:\n",
        "      if pswd.isalpha()==False:\n",
        "        pass\n",
        "        if pswd == pswd.upper():\n",
        "          print(\"password should atlest in one lowercase.\")\n",
        "        elif pswd == pswd.lower():\n",
        "          print(\"password should atlest in one uppercase.\")\n",
        "        else:\n",
        "          a = 1\n",
        "      else:\n",
        "          print(\"password not in a format should be one digit.\")\n",
        "    else:\n",
        "        print(\"password not in a format should be in length in 5<password<16 .\")\n",
        "  return pswd "
      ],
      "metadata": {
        "id": "y_gmyPrUXblk"
      },
      "execution_count": 4,
      "outputs": []
    },
    {
      "cell_type": "code",
      "source": [
        "pswd()"
      ],
      "metadata": {
        "id": "f8nmKKt-rPiK"
      },
      "execution_count": null,
      "outputs": []
    },
    {
      "cell_type": "markdown",
      "source": [
        "new_register()\n"
      ],
      "metadata": {
        "id": "8S6Js26ZJvag"
      }
    },
    {
      "cell_type": "code",
      "source": [
        "def new_user():\n",
        "   user_id = user()\n",
        "   password = pswd()\n",
        "   with open(\"user_data.csv\",mode=\"a\", newline=\"\")as f:\n",
        "      writer = csv.writer(f,delimiter=\",\")\n",
        "      print(\"your successfully registerd,please login\")\n",
        "      \n",
        "        \n"
      ],
      "metadata": {
        "id": "6R9Yuge-Jm8Y"
      },
      "execution_count": 5,
      "outputs": []
    },
    {
      "cell_type": "code",
      "source": [
        "new_user()"
      ],
      "metadata": {
        "colab": {
          "base_uri": "https://localhost:8080/"
        },
        "id": "fnye_G6VpPoJ",
        "outputId": "cf3258eb-7c31-4f5c-ad41-22c7e3f2f703"
      },
      "execution_count": 7,
      "outputs": [
        {
          "output_type": "stream",
          "name": "stdout",
          "text": [
            "please enter a password  @gmail.com or @yahoo.com\n",
            "Enter a username:balaji@gmail.com\n",
            "password format should be in one uppercase,one lowercase and one digit \n",
            "password limit in length between 5 < password < 16\n",
            "Enter a pasword:Balaji777\n",
            "your successfully registerd,please login\n"
          ]
        }
      ]
    },
    {
      "cell_type": "markdown",
      "source": [
        "login()"
      ],
      "metadata": {
        "id": "Qt90aexfcwoU"
      }
    },
    {
      "cell_type": "code",
      "source": [
        "def login():\n",
        "  user_id = user()\n",
        "  password = pswd()\n",
        "  with open(\"user_data.csv\", mode=\"r\") as f:\n",
        "         reader = csv.reader(f, delimiter=\",\")\n",
        "         for row in reader:\n",
        "             if row ==[user,password]:\n",
        "                 print(\"login successfully.\")\n",
        "                 return True\n",
        "                 print(\"please try again!.\")\n",
        "  return (\"Welcome !!! You are login successfully.\")\n"
      ],
      "metadata": {
        "id": "La25SxcDXS9g"
      },
      "execution_count": 8,
      "outputs": []
    },
    {
      "cell_type": "code",
      "source": [
        "login()"
      ],
      "metadata": {
        "id": "jSakvMj7rcWl",
        "colab": {
          "base_uri": "https://localhost:8080/",
          "height": 122
        },
        "outputId": "50ac9983-b02d-40e7-a2af-685364db594c"
      },
      "execution_count": 9,
      "outputs": [
        {
          "name": "stdout",
          "output_type": "stream",
          "text": [
            "please enter a password  @gmail.com or @yahoo.com\n",
            "Enter a username:balaji@gmail.com\n",
            "password format should be in one uppercase,one lowercase and one digit \n",
            "password limit in length between 5 < password < 16\n",
            "Enter a pasword:Balaji777\n"
          ]
        },
        {
          "output_type": "execute_result",
          "data": {
            "text/plain": [
              "'Welcome !!! You are login successfully.'"
            ],
            "application/vnd.google.colaboratory.intrinsic+json": {
              "type": "string"
            }
          },
          "metadata": {},
          "execution_count": 9
        }
      ]
    },
    {
      "cell_type": "code",
      "source": [
        ""
      ],
      "metadata": {
        "id": "nJDYxFvXY7Lf"
      },
      "execution_count": null,
      "outputs": []
    }
  ]
}